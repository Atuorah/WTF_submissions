{
 "cells": [
  {
   "cell_type": "code",
   "execution_count": 25,
   "id": "df8334d3",
   "metadata": {},
   "outputs": [
    {
     "ename": "SyntaxError",
     "evalue": "invalid syntax (1598386598.py, line 1)",
     "output_type": "error",
     "traceback": [
      "\u001b[1;36m  Input \u001b[1;32mIn [25]\u001b[1;36m\u001b[0m\n\u001b[1;33m    =int(input(\"Enter the number till you want to check: \"))\u001b[0m\n\u001b[1;37m    ^\u001b[0m\n\u001b[1;31mSyntaxError\u001b[0m\u001b[1;31m:\u001b[0m invalid syntax\n"
     ]
    }
   ],
   "source": [
    "#Write a function that prints all the prime numbers between 0 and limit where limit is a parameter.\n",
    "\n",
    "\n",
    "=int(input(\"Enter the number till you want to check: \"))\n",
    "primes = []\n",
    "for i in range (2, n+1):\n",
    "    for j in range(2, i):\n",
    "        if i%j == 0:\n",
    "            break\n",
    "    else:\n",
    "        primes.append(i)\n",
    "print(primes)"
   ]
  },
  {
   "cell_type": "code",
   "execution_count": null,
   "id": "cd1cf2eb",
   "metadata": {},
   "outputs": [],
   "source": []
  },
  {
   "cell_type": "code",
   "execution_count": 24,
   "id": "8c4ab313",
   "metadata": {},
   "outputs": [
    {
     "ename": "SyntaxError",
     "evalue": "invalid syntax (3598036437.py, line 7)",
     "output_type": "error",
     "traceback": [
      "\u001b[1;36m  Input \u001b[1;32mIn [24]\u001b[1;36m\u001b[0m\n\u001b[1;33m    else:\u001b[0m\n\u001b[1;37m    ^\u001b[0m\n\u001b[1;31mSyntaxError\u001b[0m\u001b[1;31m:\u001b[0m invalid syntax\n"
     ]
    }
   ],
   "source": [
    "#4Write a function to ask the user for a number and determine whether the number is prime or not\n",
    "\n",
    "def number_check_prime(int):\n",
    "    num = int(input('Enter a number'))\n",
    "    if num<=1:\n",
    "        print(numm, 'is not a prime number')\n",
    "        else:\n",
    "            for i in range (2,num):\n",
    "                if(num%1)==0:\n",
    "                    print(num, is not a prime number)\n",
    "                    break\n",
    "                    else:\n",
    "                        print num, 'is a prime number'\n",
    "                    \n",
    "    "
   ]
  },
  {
   "cell_type": "code",
   "execution_count": 18,
   "id": "334afc02",
   "metadata": {},
   "outputs": [
    {
     "ename": "IndentationError",
     "evalue": "expected an indented block (3552758672.py, line 12)",
     "output_type": "error",
     "traceback": [
      "\u001b[1;36m  Input \u001b[1;32mIn [18]\u001b[1;36m\u001b[0m\n\u001b[1;33m    print(num, \"is not a prime number\")\u001b[0m\n\u001b[1;37m    ^\u001b[0m\n\u001b[1;31mIndentationError\u001b[0m\u001b[1;31m:\u001b[0m expected an indented block\n"
     ]
    }
   ],
   "source": [
    "#6Write a function to ask the user for a number and determine whether the number is prime or not\n",
    "\n",
    "def number_checked_prime(int):\n",
    "    n = 5\n",
    "\n",
    "# Check if the number is greater than 1\n",
    "\n",
    "if n > 1:\n",
    "    for i in range(2, int(n/2)+1):\n",
    "        if (n % i) == 0:\n",
    "            \n",
    "    print(num, \"is not a prime number\")\n",
    "\n",
    "    break\n",
    "        else:\n",
    "        \n",
    "print(n, \"is a prime number\")\n",
    "# If the number is less than 1, its also not a prime number.\n",
    "        else:\n",
    "    \n",
    "print(n, \"is not a prime number\")\n"
   ]
  },
  {
   "cell_type": "code",
   "execution_count": 17,
   "id": "a310e059",
   "metadata": {},
   "outputs": [
    {
     "name": "stdout",
     "output_type": "stream",
     "text": [
      "Enter a stringmadam\n"
     ]
    },
    {
     "data": {
      "text/plain": [
       "<function print>"
      ]
     },
     "execution_count": 17,
     "metadata": {},
     "output_type": "execute_result"
    }
   ],
   "source": [
    "#8Write a function that ask the user for a string and print out whether this string is a palindrome or not\n",
    "\n",
    "a = input('Enter a string')\n",
    " if string is a palindrome:\n",
    "        \n",
    "print(True)\n"
   ]
  },
  {
   "cell_type": "code",
   "execution_count": 2,
   "id": "21f5059f",
   "metadata": {},
   "outputs": [
    {
     "name": "stdout",
     "output_type": "stream",
     "text": [
      "numberA2\n",
      "numberB14\n",
      "numberC8\n"
     ]
    },
    {
     "ename": "TypeError",
     "evalue": "'type' object is not subscriptable",
     "output_type": "error",
     "traceback": [
      "\u001b[1;31m---------------------------------------------------------------------------\u001b[0m",
      "\u001b[1;31mTypeError\u001b[0m                                 Traceback (most recent call last)",
      "Input \u001b[1;32mIn [2]\u001b[0m, in \u001b[0;36m<cell line: 11>\u001b[1;34m()\u001b[0m\n\u001b[0;32m      8\u001b[0m l \u001b[38;5;241m=\u001b[39m \u001b[38;5;28mint\u001b[39m(\u001b[38;5;28minput\u001b[39m(\u001b[38;5;124m'\u001b[39m\u001b[38;5;124mnumberB\u001b[39m\u001b[38;5;124m'\u001b[39m))\n\u001b[0;32m      9\u001b[0m o \u001b[38;5;241m=\u001b[39m \u001b[38;5;28mint\u001b[39m(\u001b[38;5;28minput\u001b[39m(\u001b[38;5;124m'\u001b[39m\u001b[38;5;124mnumberC\u001b[39m\u001b[38;5;124m'\u001b[39m))\n\u001b[1;32m---> 11\u001b[0m \u001b[38;5;28mprint\u001b[39m(\u001b[38;5;28;43mint\u001b[39;49m\u001b[43m[\u001b[49m\u001b[38;5;241;43m0\u001b[39;49m\u001b[43m,\u001b[49m\u001b[38;5;241;43m6\u001b[39;49m\u001b[43m,\u001b[49m\u001b[38;5;241;43m2\u001b[39;49m\u001b[43m,\u001b[49m\u001b[43m]\u001b[49m)\n",
      "\u001b[1;31mTypeError\u001b[0m: 'type' object is not subscriptable"
     ]
    }
   ],
   "source": [
    "#9Write a function that takes an ordered list of numbers (a list where the elements are in order from smallest to largest) and another number\n",
    "\n",
    "def ordered_list_numbers(numberA, numberB, numberC):\n",
    "    return (numberA), (numberB), (numberC)\n",
    "list = [2, 4, 6, 8,10,12, 14]\n",
    "\n",
    "s = int(input('numberA'))\n",
    "l = int(input('numberB'))\n",
    "o = int(input('numberC'))\n",
    "\n",
    "print(int[0,6,2,])"
   ]
  },
  {
   "cell_type": "code",
   "execution_count": 1,
   "id": "605dc04d",
   "metadata": {},
   "outputs": [
    {
     "name": "stdout",
     "output_type": "stream",
     "text": [
      "Enter name:Monica\n",
      "Enter age:43\n",
      "year when you will turn 100 is: 2079\n"
     ]
    }
   ],
   "source": [
    "#10Create a program that asks the user to enter their name and their age. Print out a message addressed to them that tells them the year that they will turn 100 years old \n",
    "\n",
    "\n",
    "def program_personal_info(name,age, years):\n",
    "    return ('name'), (age), (message)\n",
    "\n",
    "name = input('Enter name:')\n",
    "age = int(input('Enter age:'))\n",
    "\n",
    "\n",
    "print('year when you will turn 100 is:',100-age+2022)"
   ]
  },
  {
   "cell_type": "code",
   "execution_count": null,
   "id": "18fc5f3c",
   "metadata": {},
   "outputs": [],
   "source": []
  }
 ],
 "metadata": {
  "kernelspec": {
   "display_name": "Python 3 (ipykernel)",
   "language": "python",
   "name": "python3"
  },
  "language_info": {
   "codemirror_mode": {
    "name": "ipython",
    "version": 3
   },
   "file_extension": ".py",
   "mimetype": "text/x-python",
   "name": "python",
   "nbconvert_exporter": "python",
   "pygments_lexer": "ipython3",
   "version": "3.9.12"
  }
 },
 "nbformat": 4,
 "nbformat_minor": 5
}
